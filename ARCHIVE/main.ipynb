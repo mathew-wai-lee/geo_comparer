{
 "cells": [
  {
   "cell_type": "code",
   "execution_count": 1,
   "metadata": {},
   "outputs": [],
   "source": [
    "import duckdb"
   ]
  },
  {
   "cell_type": "code",
   "execution_count": 2,
   "metadata": {},
   "outputs": [],
   "source": [
    "con = duckdb.connect('main.db')\n"
   ]
  },
  {
   "cell_type": "code",
   "execution_count": 35,
   "metadata": {},
   "outputs": [],
   "source": [
    "weather = con.execute(\"\"\"CREATE TABLE weather AS SELECT * FROM read_csv('s3://noaa-gsod-pds/2024/*.csv', auto_detect=true);\"\"\")\n"
   ]
  },
  {
   "cell_type": "code",
   "execution_count": 3,
   "metadata": {},
   "outputs": [],
   "source": [
    "# tmin = con.execute(\"\"\"CREATE TABLE tmin AS SELECT * FROM read_parquet('s3://noaa-ghcn-pds/parquet/by_station/STATION=*/ELEMENT=TMIN/*.parquet');\"\"\")\n",
    "# tmin.df().head()"
   ]
  },
  {
   "cell_type": "code",
   "execution_count": 4,
   "metadata": {},
   "outputs": [],
   "source": [
    "# tmax = con.execute(\"\"\"CREATE TABLE tmax AS SELECT * FROM read_parquet('s3://noaa-ghcn-pds/parquet/by_station/STATION=*/ELEMENT=TMAX/*.parquet');\"\"\")\n",
    "# tmax.df().head()"
   ]
  },
  {
   "cell_type": "code",
   "execution_count": 5,
   "metadata": {},
   "outputs": [],
   "source": [
    "# prcp = con.execute(\"\"\"CREATE TABLE prcp AS SELECT * FROM read_parquet('s3://noaa-ghcn-pds/parquet/by_station/STATION=*/ELEMENT=PRCP/*.parquet');\"\"\")\n",
    "# prcp.df().head()"
   ]
  },
  {
   "cell_type": "code",
   "execution_count": 6,
   "metadata": {},
   "outputs": [],
   "source": [
    "# snow = con.execute(\"\"\"CREATE TABLE snow AS SELECT * FROM read_parquet('s3://noaa-ghcn-pds/parquet/by_station/STATION=*/ELEMENT=SNOW/*.parquet');\"\"\")\n",
    "# snow.df().head()"
   ]
  },
  {
   "cell_type": "code",
   "execution_count": 7,
   "metadata": {},
   "outputs": [],
   "source": [
    "# stations_columns = \"\"\"{\n",
    "#                     'ID': 'VARCHAR',\n",
    "#                     'LATITUDE': 'REAL',\n",
    "#                     'LONGITUDE': 'REAL',\n",
    "#                     'ELEVATION': 'REAL',\n",
    "#                     'STATE': 'VARCHAR',\n",
    "#                     'NAME': 'VARCHAR',\n",
    "#                     'GSN_FLAG': 'VARCHAR',\n",
    "#                     'HCN_CRN_FLAG': 'VARCHAR',\n",
    "#                     'WMO_ID': 'VARCHAR'}\"\"\"\n",
    "\n"
   ]
  },
  {
   "cell_type": "code",
   "execution_count": 30,
   "metadata": {},
   "outputs": [
    {
     "data": {
      "text/plain": [
       "<duckdb.duckdb.DuckDBPyConnection at 0x1079094b0>"
      ]
     },
     "execution_count": 30,
     "metadata": {},
     "output_type": "execute_result"
    }
   ],
   "source": [
    "# con.execute(\"\"\"DROP TABLE IF EXISTS stations;\"\"\")"
   ]
  },
  {
   "cell_type": "code",
   "execution_count": 31,
   "metadata": {},
   "outputs": [],
   "source": [
    "# # stations = con.execute(f\"\"\"CREATE TABLE stations AS SELECT * FROM read_csv('s3://noaa-ghcn-pds/ghcnd-stations.txt', delim='\\t', columns={stations_columns})\"\"\")\n",
    "# # # stations.df().head()\n",
    "# stations = con.execute(f\"\"\"CREATE TABLE stations AS SELECT * FROM read_csv('s3://noaa-ghcn-pds/ghcnd-stations.txt',header=false, auto_detect=true)\"\"\")\n"
   ]
  },
  {
   "cell_type": "code",
   "execution_count": null,
   "metadata": {},
   "outputs": [],
   "source": []
  },
  {
   "cell_type": "code",
   "execution_count": null,
   "metadata": {},
   "outputs": [],
   "source": []
  }
 ],
 "metadata": {
  "kernelspec": {
   "display_name": "Python 3",
   "language": "python",
   "name": "python3"
  },
  "language_info": {
   "codemirror_mode": {
    "name": "ipython",
    "version": 3
   },
   "file_extension": ".py",
   "mimetype": "text/x-python",
   "name": "python",
   "nbconvert_exporter": "python",
   "pygments_lexer": "ipython3",
   "version": "3.9.6"
  }
 },
 "nbformat": 4,
 "nbformat_minor": 2
}
